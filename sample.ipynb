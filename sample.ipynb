{
 "cells": [
  {
   "metadata": {},
   "cell_type": "markdown",
   "source": "# dcGAN",
   "id": "8a77807f92f26ee"
  },
  {
   "metadata": {
    "ExecuteTime": {
     "end_time": "2024-08-31T17:44:05.360812Z",
     "start_time": "2024-08-31T17:43:59.085421Z"
    }
   },
   "cell_type": "code",
   "source": [
    "import tensorflow as tf\n",
    "from tensorflow.keras import layers\n",
    "import numpy as np\n",
    "import matplotlib.pyplot as plt"
   ],
   "id": "fbc121e30a2defb3",
   "outputs": [],
   "execution_count": 2
  },
  {
   "metadata": {
    "ExecuteTime": {
     "end_time": "2024-08-31T17:45:02.762056Z",
     "start_time": "2024-08-31T17:45:02.753864Z"
    }
   },
   "cell_type": "code",
   "source": [
    "def build_generator():\n",
    "    model = tf.keras.Sequential([\n",
    "        tf.keras.Input(shape=(100,)), \n",
    "        layers.Dense(7 * 7 * 256, use_bias=False),\n",
    "        layers.BatchNormalization(),\n",
    "        layers.LeakyReLU(),\n",
    "\n",
    "        layers.Reshape((7, 7, 256)),\n",
    "        layers.Conv2DTranspose(128, (5, 5), strides=(1, 1), padding='same', use_bias=False),\n",
    "        layers.BatchNormalization(),\n",
    "        layers.LeakyReLU(),\n",
    "\n",
    "        layers.Conv2DTranspose(64, (5, 5), strides=(2, 2), padding='same', use_bias=False),\n",
    "        layers.BatchNormalization(),\n",
    "        layers.LeakyReLU(),\n",
    "\n",
    "        layers.Conv2DTranspose(1, (5, 5), strides=(2, 2), padding='same', use_bias=False, activation='tanh')\n",
    "    ])\n",
    "    return model\n"
   ],
   "id": "b304b6c37483b85b",
   "outputs": [],
   "execution_count": 8
  },
  {
   "metadata": {
    "ExecuteTime": {
     "end_time": "2024-08-31T17:45:18.255154Z",
     "start_time": "2024-08-31T17:45:18.248891Z"
    }
   },
   "cell_type": "code",
   "source": [
    "def build_discriminator():\n",
    "    model = tf.keras.Sequential([\n",
    "        tf.keras.Input(shape=(28, 28, 1)), \n",
    "        layers.Conv2D(64, (5, 5), strides=(2, 2), padding='same'),\n",
    "        layers.LeakyReLU(),\n",
    "        layers.Dropout(0.3),\n",
    "\n",
    "        layers.Conv2D(128, (5, 5), strides=(2, 2), padding='same'),\n",
    "        layers.LeakyReLU(),\n",
    "        layers.Dropout(0.3),\n",
    "\n",
    "        layers.Flatten(),\n",
    "        layers.Dense(1)\n",
    "    ])\n",
    "    return model\n"
   ],
   "id": "b97773bbddd6e54c",
   "outputs": [],
   "execution_count": 12
  },
  {
   "metadata": {
    "ExecuteTime": {
     "end_time": "2024-08-31T17:45:22.009902Z",
     "start_time": "2024-08-31T17:45:21.251503Z"
    }
   },
   "cell_type": "code",
   "source": [
    "(train_images, _), (_, _) = tf.keras.datasets.mnist.load_data()\n",
    "train_images = train_images.reshape(train_images.shape[0], 28, 28, 1).astype('float32')\n",
    "train_images = (train_images - 127.5) / 127.5  \n",
    "\n",
    "buffer_size = 60000\n",
    "batch_size = 256\n",
    "noise_dim = 100\n",
    "num_examples_to_generate = 16\n",
    "\n",
    "train_dataset = tf.data.Dataset.from_tensor_slices(train_images).shuffle(buffer_size).batch(batch_size)\n",
    "\n",
    "generator = build_generator()\n",
    "discriminator = build_discriminator()\n",
    "\n",
    "dummy_noise = tf.random.normal([1, 100])\n",
    "_ = generator(dummy_noise)\n",
    "\n",
    "dummy_image = tf.random.normal([1, 28, 28, 1])\n",
    "_ = discriminator(dummy_image)\n",
    "\n",
    "generator_optimizer = tf.keras.optimizers.Adam(1e-4)\n",
    "discriminator_optimizer = tf.keras.optimizers.Adam(1e-4)\n",
    "\n",
    "cross_entropy = tf.keras.losses.BinaryCrossentropy(from_logits=True)"
   ],
   "id": "f7208b9b86d09964",
   "outputs": [],
   "execution_count": 13
  },
  {
   "metadata": {
    "ExecuteTime": {
     "end_time": "2024-08-31T17:45:24.384712Z",
     "start_time": "2024-08-31T17:45:24.379378Z"
    }
   },
   "cell_type": "code",
   "source": [
    "def discriminator_loss(real_output, fake_output):\n",
    "    real_loss = cross_entropy(tf.ones_like(real_output), real_output)\n",
    "    fake_loss = cross_entropy(tf.zeros_like(fake_output), fake_output)\n",
    "    total_loss = real_loss + fake_loss\n",
    "    return total_loss"
   ],
   "id": "6606abaedf8981d8",
   "outputs": [],
   "execution_count": 14
  },
  {
   "metadata": {
    "ExecuteTime": {
     "end_time": "2024-08-31T17:45:26.193899Z",
     "start_time": "2024-08-31T17:45:26.186899Z"
    }
   },
   "cell_type": "code",
   "source": [
    "def generator_loss(fake_output):\n",
    "    return cross_entropy(tf.ones_like(fake_output), fake_output)"
   ],
   "id": "a3f8676b442c7744",
   "outputs": [],
   "execution_count": 15
  },
  {
   "metadata": {
    "ExecuteTime": {
     "end_time": "2024-08-31T17:45:27.942442Z",
     "start_time": "2024-08-31T17:45:27.930709Z"
    }
   },
   "cell_type": "code",
   "source": [
    "generator_optimizer = tf.keras.optimizers.Adam(1e-4)\n",
    "discriminator_optimizer = tf.keras.optimizers.Adam(1e-4)"
   ],
   "id": "5b193a99afbda682",
   "outputs": [],
   "execution_count": 16
  },
  {
   "metadata": {
    "jupyter": {
     "is_executing": true
    },
    "ExecuteTime": {
     "start_time": "2024-08-31T17:45:31.003537Z"
    }
   },
   "cell_type": "code",
   "source": [
    "@tf.function\n",
    "def train_step(images):\n",
    "    noise = tf.random.normal([batch_size, noise_dim])\n",
    "\n",
    "    with tf.GradientTape() as gen_tape, tf.GradientTape() as disc_tape:\n",
    "        generated_images = generator(noise, training=True)\n",
    "\n",
    "        real_output = discriminator(images, training=True)\n",
    "        fake_output = discriminator(generated_images, training=True)\n",
    "\n",
    "        gen_loss = generator_loss(fake_output)\n",
    "        disc_loss = discriminator_loss(real_output, fake_output)\n",
    "\n",
    "    gradients_of_generator = gen_tape.gradient(gen_loss, generator.trainable_variables)\n",
    "    gradients_of_discriminator = disc_tape.gradient(disc_loss, discriminator.trainable_variables)\n",
    "\n",
    "    generator_optimizer.apply_gradients(zip(gradients_of_generator, generator.trainable_variables))\n",
    "    discriminator_optimizer.apply_gradients(zip(gradients_of_discriminator, discriminator.trainable_variables))\n",
    "\n",
    "def train(dataset, epochs):\n",
    "    for epoch in range(epochs):\n",
    "        for image_batch in dataset:\n",
    "            train_step(image_batch)\n",
    "\n",
    "generator = build_generator()\n",
    "discriminator = build_discriminator()\n",
    "\n",
    "dummy_noise = tf.random.normal([1, 100])\n",
    "_ = generator(dummy_noise)\n",
    "\n",
    "dummy_image = tf.random.normal([1, 28, 28, 1])\n",
    "_ = discriminator(dummy_image)\n",
    "\n",
    "train(train_dataset, epochs=50)\n"
   ],
   "id": "27c8848f11ec83ab",
   "outputs": [],
   "execution_count": null
  },
  {
   "metadata": {
    "ExecuteTime": {
     "end_time": "2024-08-24T20:42:15.851671Z",
     "start_time": "2024-08-24T20:42:14.542089Z"
    }
   },
   "cell_type": "code",
   "source": "",
   "id": "850ec1de1fd24d29",
   "outputs": [
    {
     "ename": "ValueError",
     "evalue": "in user code:\n\n    File \"C:\\Users\\filip\\AppData\\Local\\Temp\\ipykernel_13768\\3214791541.py\", line 17, in train_step  *\n        generator_optimizer.apply_gradients(zip(gradients_of_generator, generator.trainable_variables))\n    File \"C:\\Users\\filip\\miniconda3\\Lib\\site-packages\\keras\\src\\optimizers\\base_optimizer.py\", line 291, in apply_gradients  **\n        self.apply(grads, trainable_variables)\n    File \"C:\\Users\\filip\\miniconda3\\Lib\\site-packages\\keras\\src\\optimizers\\base_optimizer.py\", line 332, in apply\n        self._check_variables_are_known(trainable_variables)\n    File \"C:\\Users\\filip\\miniconda3\\Lib\\site-packages\\keras\\src\\optimizers\\base_optimizer.py\", line 237, in _check_variables_are_known\n        raise ValueError(\n\n    ValueError: Unknown variable: <KerasVariable shape=(100, 12544), dtype=float32, path=sequential_8/dense_8/kernel>. This optimizer can only be called for the variables it was originally built with. When working with a new set of variables, you should recreate a new optimizer instance.\n",
     "output_type": "error",
     "traceback": [
      "\u001B[1;31m---------------------------------------------------------------------------\u001B[0m",
      "\u001B[1;31mValueError\u001B[0m                                Traceback (most recent call last)",
      "Cell \u001B[1;32mIn[14], line 21\u001B[0m\n\u001B[0;32m     18\u001B[0m dummy_image \u001B[38;5;241m=\u001B[39m tf\u001B[38;5;241m.\u001B[39mrandom\u001B[38;5;241m.\u001B[39mnormal([\u001B[38;5;241m1\u001B[39m, \u001B[38;5;241m28\u001B[39m, \u001B[38;5;241m28\u001B[39m, \u001B[38;5;241m1\u001B[39m])\n\u001B[0;32m     19\u001B[0m _ \u001B[38;5;241m=\u001B[39m discriminator(dummy_image)\n\u001B[1;32m---> 21\u001B[0m train(train_dataset, epochs\u001B[38;5;241m=\u001B[39m\u001B[38;5;241m50\u001B[39m)\n",
      "Cell \u001B[1;32mIn[13], line 23\u001B[0m, in \u001B[0;36mtrain\u001B[1;34m(dataset, epochs)\u001B[0m\n\u001B[0;32m     21\u001B[0m \u001B[38;5;28;01mfor\u001B[39;00m epoch \u001B[38;5;129;01min\u001B[39;00m \u001B[38;5;28mrange\u001B[39m(epochs):\n\u001B[0;32m     22\u001B[0m     \u001B[38;5;28;01mfor\u001B[39;00m image_batch \u001B[38;5;129;01min\u001B[39;00m dataset:\n\u001B[1;32m---> 23\u001B[0m         train_step(image_batch)\n",
      "File \u001B[1;32m~\\miniconda3\\Lib\\site-packages\\tensorflow\\python\\util\\traceback_utils.py:153\u001B[0m, in \u001B[0;36mfilter_traceback.<locals>.error_handler\u001B[1;34m(*args, **kwargs)\u001B[0m\n\u001B[0;32m    151\u001B[0m \u001B[38;5;28;01mexcept\u001B[39;00m \u001B[38;5;167;01mException\u001B[39;00m \u001B[38;5;28;01mas\u001B[39;00m e:\n\u001B[0;32m    152\u001B[0m   filtered_tb \u001B[38;5;241m=\u001B[39m _process_traceback_frames(e\u001B[38;5;241m.\u001B[39m__traceback__)\n\u001B[1;32m--> 153\u001B[0m   \u001B[38;5;28;01mraise\u001B[39;00m e\u001B[38;5;241m.\u001B[39mwith_traceback(filtered_tb) \u001B[38;5;28;01mfrom\u001B[39;00m \u001B[38;5;28;01mNone\u001B[39;00m\n\u001B[0;32m    154\u001B[0m \u001B[38;5;28;01mfinally\u001B[39;00m:\n\u001B[0;32m    155\u001B[0m   \u001B[38;5;28;01mdel\u001B[39;00m filtered_tb\n",
      "File \u001B[1;32m~\\AppData\\Local\\Temp\\__autograph_generated_file3rzobgv6.py:17\u001B[0m, in \u001B[0;36mouter_factory.<locals>.inner_factory.<locals>.tf__train_step\u001B[1;34m(images)\u001B[0m\n\u001B[0;32m     15\u001B[0m gradients_of_generator \u001B[38;5;241m=\u001B[39m ag__\u001B[38;5;241m.\u001B[39mconverted_call(ag__\u001B[38;5;241m.\u001B[39mld(gen_tape)\u001B[38;5;241m.\u001B[39mgradient, (ag__\u001B[38;5;241m.\u001B[39mld(gen_loss), ag__\u001B[38;5;241m.\u001B[39mld(generator)\u001B[38;5;241m.\u001B[39mtrainable_variables), \u001B[38;5;28;01mNone\u001B[39;00m, fscope)\n\u001B[0;32m     16\u001B[0m gradients_of_discriminator \u001B[38;5;241m=\u001B[39m ag__\u001B[38;5;241m.\u001B[39mconverted_call(ag__\u001B[38;5;241m.\u001B[39mld(disc_tape)\u001B[38;5;241m.\u001B[39mgradient, (ag__\u001B[38;5;241m.\u001B[39mld(disc_loss), ag__\u001B[38;5;241m.\u001B[39mld(discriminator)\u001B[38;5;241m.\u001B[39mtrainable_variables), \u001B[38;5;28;01mNone\u001B[39;00m, fscope)\n\u001B[1;32m---> 17\u001B[0m ag__\u001B[38;5;241m.\u001B[39mconverted_call(ag__\u001B[38;5;241m.\u001B[39mld(generator_optimizer)\u001B[38;5;241m.\u001B[39mapply_gradients, (ag__\u001B[38;5;241m.\u001B[39mconverted_call(ag__\u001B[38;5;241m.\u001B[39mld(\u001B[38;5;28mzip\u001B[39m), (ag__\u001B[38;5;241m.\u001B[39mld(gradients_of_generator), ag__\u001B[38;5;241m.\u001B[39mld(generator)\u001B[38;5;241m.\u001B[39mtrainable_variables), \u001B[38;5;28;01mNone\u001B[39;00m, fscope),), \u001B[38;5;28;01mNone\u001B[39;00m, fscope)\n\u001B[0;32m     18\u001B[0m ag__\u001B[38;5;241m.\u001B[39mconverted_call(ag__\u001B[38;5;241m.\u001B[39mld(discriminator_optimizer)\u001B[38;5;241m.\u001B[39mapply_gradients, (ag__\u001B[38;5;241m.\u001B[39mconverted_call(ag__\u001B[38;5;241m.\u001B[39mld(\u001B[38;5;28mzip\u001B[39m), (ag__\u001B[38;5;241m.\u001B[39mld(gradients_of_discriminator), ag__\u001B[38;5;241m.\u001B[39mld(discriminator)\u001B[38;5;241m.\u001B[39mtrainable_variables), \u001B[38;5;28;01mNone\u001B[39;00m, fscope),), \u001B[38;5;28;01mNone\u001B[39;00m, fscope)\n",
      "File \u001B[1;32m~\\miniconda3\\Lib\\site-packages\\keras\\src\\optimizers\\base_optimizer.py:291\u001B[0m, in \u001B[0;36mBaseOptimizer.apply_gradients\u001B[1;34m(self, grads_and_vars)\u001B[0m\n\u001B[0;32m    289\u001B[0m \u001B[38;5;28;01mdef\u001B[39;00m \u001B[38;5;21mapply_gradients\u001B[39m(\u001B[38;5;28mself\u001B[39m, grads_and_vars):\n\u001B[0;32m    290\u001B[0m     grads, trainable_variables \u001B[38;5;241m=\u001B[39m \u001B[38;5;28mzip\u001B[39m(\u001B[38;5;241m*\u001B[39mgrads_and_vars)\n\u001B[1;32m--> 291\u001B[0m     \u001B[38;5;28mself\u001B[39m\u001B[38;5;241m.\u001B[39mapply(grads, trainable_variables)\n\u001B[0;32m    292\u001B[0m     \u001B[38;5;66;03m# Return iterations for compat with tf.keras.\u001B[39;00m\n\u001B[0;32m    293\u001B[0m     \u001B[38;5;28;01mreturn\u001B[39;00m \u001B[38;5;28mself\u001B[39m\u001B[38;5;241m.\u001B[39m_iterations\n",
      "File \u001B[1;32m~\\miniconda3\\Lib\\site-packages\\keras\\src\\optimizers\\base_optimizer.py:332\u001B[0m, in \u001B[0;36mBaseOptimizer.apply\u001B[1;34m(self, grads, trainable_variables)\u001B[0m\n\u001B[0;32m    330\u001B[0m             \u001B[38;5;28mself\u001B[39m\u001B[38;5;241m.\u001B[39mbuild(trainable_variables)\n\u001B[0;32m    331\u001B[0m         \u001B[38;5;28mself\u001B[39m\u001B[38;5;241m.\u001B[39mbuilt \u001B[38;5;241m=\u001B[39m \u001B[38;5;28;01mTrue\u001B[39;00m\n\u001B[1;32m--> 332\u001B[0m     \u001B[38;5;28mself\u001B[39m\u001B[38;5;241m.\u001B[39m_check_variables_are_known(trainable_variables)\n\u001B[0;32m    334\u001B[0m \u001B[38;5;28;01mwith\u001B[39;00m backend\u001B[38;5;241m.\u001B[39mname_scope(\u001B[38;5;28mself\u001B[39m\u001B[38;5;241m.\u001B[39mname, caller\u001B[38;5;241m=\u001B[39m\u001B[38;5;28mself\u001B[39m):\n\u001B[0;32m    335\u001B[0m     \u001B[38;5;66;03m# Overwrite targeted variables directly with their gradients if\u001B[39;00m\n\u001B[0;32m    336\u001B[0m     \u001B[38;5;66;03m# their `overwrite_with_gradient` is set.\u001B[39;00m\n\u001B[0;32m    337\u001B[0m     grads, trainable_variables \u001B[38;5;241m=\u001B[39m (\n\u001B[0;32m    338\u001B[0m         \u001B[38;5;28mself\u001B[39m\u001B[38;5;241m.\u001B[39m_overwrite_variables_directly_with_gradients(\n\u001B[0;32m    339\u001B[0m             grads, trainable_variables\n\u001B[0;32m    340\u001B[0m         )\n\u001B[0;32m    341\u001B[0m     )\n",
      "File \u001B[1;32m~\\miniconda3\\Lib\\site-packages\\keras\\src\\optimizers\\base_optimizer.py:237\u001B[0m, in \u001B[0;36mBaseOptimizer._check_variables_are_known\u001B[1;34m(self, variables)\u001B[0m\n\u001B[0;32m    235\u001B[0m \u001B[38;5;28;01mfor\u001B[39;00m v \u001B[38;5;129;01min\u001B[39;00m variables:\n\u001B[0;32m    236\u001B[0m     \u001B[38;5;28;01mif\u001B[39;00m \u001B[38;5;28mself\u001B[39m\u001B[38;5;241m.\u001B[39m_var_key(v) \u001B[38;5;129;01mnot\u001B[39;00m \u001B[38;5;129;01min\u001B[39;00m \u001B[38;5;28mself\u001B[39m\u001B[38;5;241m.\u001B[39m_trainable_variables_indices:\n\u001B[1;32m--> 237\u001B[0m         \u001B[38;5;28;01mraise\u001B[39;00m \u001B[38;5;167;01mValueError\u001B[39;00m(\n\u001B[0;32m    238\u001B[0m             \u001B[38;5;124mf\u001B[39m\u001B[38;5;124m\"\u001B[39m\u001B[38;5;124mUnknown variable: \u001B[39m\u001B[38;5;132;01m{\u001B[39;00mv\u001B[38;5;132;01m}\u001B[39;00m\u001B[38;5;124m. This optimizer can only \u001B[39m\u001B[38;5;124m\"\u001B[39m\n\u001B[0;32m    239\u001B[0m             \u001B[38;5;124m\"\u001B[39m\u001B[38;5;124mbe called for the variables it was originally built with. \u001B[39m\u001B[38;5;124m\"\u001B[39m\n\u001B[0;32m    240\u001B[0m             \u001B[38;5;124m\"\u001B[39m\u001B[38;5;124mWhen working with a new set of variables, you should \u001B[39m\u001B[38;5;124m\"\u001B[39m\n\u001B[0;32m    241\u001B[0m             \u001B[38;5;124m\"\u001B[39m\u001B[38;5;124mrecreate a new optimizer instance.\u001B[39m\u001B[38;5;124m\"\u001B[39m\n\u001B[0;32m    242\u001B[0m         )\n",
      "\u001B[1;31mValueError\u001B[0m: in user code:\n\n    File \"C:\\Users\\filip\\AppData\\Local\\Temp\\ipykernel_13768\\3214791541.py\", line 17, in train_step  *\n        generator_optimizer.apply_gradients(zip(gradients_of_generator, generator.trainable_variables))\n    File \"C:\\Users\\filip\\miniconda3\\Lib\\site-packages\\keras\\src\\optimizers\\base_optimizer.py\", line 291, in apply_gradients  **\n        self.apply(grads, trainable_variables)\n    File \"C:\\Users\\filip\\miniconda3\\Lib\\site-packages\\keras\\src\\optimizers\\base_optimizer.py\", line 332, in apply\n        self._check_variables_are_known(trainable_variables)\n    File \"C:\\Users\\filip\\miniconda3\\Lib\\site-packages\\keras\\src\\optimizers\\base_optimizer.py\", line 237, in _check_variables_are_known\n        raise ValueError(\n\n    ValueError: Unknown variable: <KerasVariable shape=(100, 12544), dtype=float32, path=sequential_8/dense_8/kernel>. This optimizer can only be called for the variables it was originally built with. When working with a new set of variables, you should recreate a new optimizer instance.\n"
     ]
    }
   ],
   "execution_count": 14
  }
 ],
 "metadata": {
  "kernelspec": {
   "display_name": "Python 3",
   "language": "python",
   "name": "python3"
  },
  "language_info": {
   "codemirror_mode": {
    "name": "ipython",
    "version": 2
   },
   "file_extension": ".py",
   "mimetype": "text/x-python",
   "name": "python",
   "nbconvert_exporter": "python",
   "pygments_lexer": "ipython2",
   "version": "2.7.6"
  }
 },
 "nbformat": 4,
 "nbformat_minor": 5
}
